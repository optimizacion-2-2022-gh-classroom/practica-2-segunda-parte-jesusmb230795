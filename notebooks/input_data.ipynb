{
 "cells": [
  {
   "cell_type": "code",
   "execution_count": 8,
   "id": "4063afe2-1938-4609-8e21-96c0b2cc8f79",
   "metadata": {},
   "outputs": [],
   "source": [
    "import pandas as pd\n",
    "import requests\n",
    "\n",
    "import pandas_datareader as web\n",
    "import datetime as dt\n"
   ]
  },
  {
   "cell_type": "code",
   "execution_count": 12,
   "id": "7a7cbe51-1fb3-49bf-806a-b67dfcc97236",
   "metadata": {
    "tags": []
   },
   "outputs": [],
   "source": [
    "url = 'https://web-api.coinmarketcap.com/v1/cryptocurrency/listings/latest'\n",
    "\n",
    "tickers = []\n",
    "lst_dates = []\n",
    "lst_last_updated=[]\n",
    "lst_price=[]\n",
    "lst_market_cap=[]\n",
    "\n",
    "for start in range(1, 20000, 5000):\n",
    "\n",
    "    params = {\n",
    "        'start': start,\n",
    "        'limit': 5000,\n",
    "    }\n",
    "\n",
    "    r = requests.get(url, params=params)\n",
    "    data = r.json()\n",
    "    \n",
    "    for number, item in enumerate(data['data']):\n",
    "        # print(f\"{start+number:4} | {item['symbol']:5} | {item['date_added'][:10]}\")\n",
    "        # print(item.keys())\n",
    "        tickers.append(item['symbol'])\n",
    "        lst_dates.append(item['date_added'])\n",
    "        lst_last_updated.append(item['last_updated'])\n",
    "        lst_price.append(item['quote']['USD']['price'])\n",
    "        lst_market_cap.append(item['quote']['USD']['market_cap'])\n"
   ]
  },
  {
   "cell_type": "code",
   "execution_count": 13,
   "id": "94e6c275-4e63-4a89-9051-979235948d47",
   "metadata": {},
   "outputs": [
    {
     "data": {
      "text/html": [
       "<div>\n",
       "<style scoped>\n",
       "    .dataframe tbody tr th:only-of-type {\n",
       "        vertical-align: middle;\n",
       "    }\n",
       "\n",
       "    .dataframe tbody tr th {\n",
       "        vertical-align: top;\n",
       "    }\n",
       "\n",
       "    .dataframe thead th {\n",
       "        text-align: right;\n",
       "    }\n",
       "</style>\n",
       "<table border=\"1\" class=\"dataframe\">\n",
       "  <thead>\n",
       "    <tr style=\"text-align: right;\">\n",
       "      <th></th>\n",
       "      <th>ticker</th>\n",
       "      <th>date_added</th>\n",
       "    </tr>\n",
       "  </thead>\n",
       "  <tbody>\n",
       "    <tr>\n",
       "      <th>0</th>\n",
       "      <td>BTC</td>\n",
       "      <td>2013-04-28T00:00:00.000Z</td>\n",
       "    </tr>\n",
       "    <tr>\n",
       "      <th>1</th>\n",
       "      <td>ETH</td>\n",
       "      <td>2015-08-07T00:00:00.000Z</td>\n",
       "    </tr>\n",
       "    <tr>\n",
       "      <th>2</th>\n",
       "      <td>USDT</td>\n",
       "      <td>2015-02-25T00:00:00.000Z</td>\n",
       "    </tr>\n",
       "    <tr>\n",
       "      <th>3</th>\n",
       "      <td>USDC</td>\n",
       "      <td>2018-10-08T00:00:00.000Z</td>\n",
       "    </tr>\n",
       "    <tr>\n",
       "      <th>4</th>\n",
       "      <td>BNB</td>\n",
       "      <td>2017-07-25T00:00:00.000Z</td>\n",
       "    </tr>\n",
       "  </tbody>\n",
       "</table>\n",
       "</div>"
      ],
      "text/plain": [
       "  ticker                date_added\n",
       "0    BTC  2013-04-28T00:00:00.000Z\n",
       "1    ETH  2015-08-07T00:00:00.000Z\n",
       "2   USDT  2015-02-25T00:00:00.000Z\n",
       "3   USDC  2018-10-08T00:00:00.000Z\n",
       "4    BNB  2017-07-25T00:00:00.000Z"
      ]
     },
     "execution_count": 13,
     "metadata": {},
     "output_type": "execute_result"
    }
   ],
   "source": [
    "currencies_base = pd.DataFrame(\n",
    "    {\n",
    "        'ticker':tickers,\n",
    "        'date_added':lst_dates,\n",
    "        'last_updated':lst_last_updated,\n",
    "        'price':lst_price,\n",
    "        'market_cap':lst_market_cap,\n",
    "    }\n",
    ")\n",
    "\n",
    "currencies_base.head()"
   ]
  },
  {
   "cell_type": "code",
   "execution_count": 14,
   "id": "badb1c38-b596-4df1-b45d-ea2ed8b94a35",
   "metadata": {},
   "outputs": [
    {
     "name": "stdout",
     "output_type": "stream",
     "text": [
      "<class 'pandas.core.frame.DataFrame'>\n",
      "RangeIndex: 10105 entries, 0 to 10104\n",
      "Data columns (total 2 columns):\n",
      " #   Column      Non-Null Count  Dtype \n",
      "---  ------      --------------  ----- \n",
      " 0   ticker      10105 non-null  object\n",
      " 1   date_added  10105 non-null  object\n",
      "dtypes: object(2)\n",
      "memory usage: 158.0+ KB\n"
     ]
    }
   ],
   "source": [
    "currencies_base.info()"
   ]
  },
  {
   "cell_type": "code",
   "execution_count": 20,
   "id": "1905a716-a4d6-4fbf-9401-c83209ad7838",
   "metadata": {},
   "outputs": [
    {
     "data": {
      "text/plain": [
       "2"
      ]
     },
     "execution_count": 20,
     "metadata": {},
     "output_type": "execute_result"
    }
   ],
   "source": [
    "2 % 100"
   ]
  },
  {
   "cell_type": "code",
   "execution_count": 21,
   "id": "b155c10b-a94c-4560-82a2-7f2ca485f2c2",
   "metadata": {
    "collapsed": true,
    "jupyter": {
     "outputs_hidden": true
    },
    "tags": []
   },
   "outputs": [
    {
     "name": "stdout",
     "output_type": "stream",
     "text": [
      "BTC\n",
      "OMG\n",
      "LUNA\n",
      "SUPER\n",
      "CFG\n",
      "COCOS\n",
      "ALBT\n",
      "TNC\n",
      "GBYTE\n",
      "BTNT\n",
      "CARD\n",
      "FCON\n",
      "VEST\n",
      "TOWER\n",
      "CTI\n",
      "FYD\n",
      "CHX\n",
      "OPEN\n",
      "XMX\n",
      "APL\n",
      "DMT\n",
      "BITG\n",
      "KALA\n",
      "PHX\n",
      "KWS\n",
      "XGS\n",
      "BERN\n",
      "WXC\n",
      "ETHP\n",
      "DOTDOWN\n",
      "OVR\n",
      "ALD\n",
      "CWEB\n",
      "REAL\n",
      "GHD\n",
      "POT\n",
      "DFH\n",
      "GAN\n",
      "XRPBULL\n",
      "NOVA\n",
      "AETERNA\n",
      "KOKO\n",
      "ELS\n",
      "BTL\n",
      "ARC\n",
      "UNIDX\n",
      "777\n",
      "MDM\n",
      "WIT\n",
      "CP\n",
      "ZM\n",
      "DGP\n",
      "BRS\n",
      "TAUR\n",
      "FUFU\n",
      "CPC\n",
      "UANG\n",
      "BCHBULL\n",
      "SHIH\n",
      "LIT\n",
      "TAP\n",
      "LEZ\n",
      "SOUL\n",
      "BCMC1\n",
      "MU\n",
      "CRYPT\n",
      "AUR\n",
      "MONO\n",
      "DFM\n",
      "ST\n",
      "TEN\n",
      "GBOX\n",
      "POWER\n",
      "$BAETH\n",
      "PASSIVE\n",
      "Whale\n",
      "JT\n",
      "BMBO\n",
      "GG\n",
      "RICE\n",
      "TERRA\n",
      "LUM\n",
      "DOGEX\n",
      "CTL\n",
      "ZABU\n",
      "MACH\n",
      "BABYTIGER\n",
      "GSHARE\n",
      "EVR\n",
      "ZCH\n",
      "FXP\n",
      "$KING\n",
      "PIZZA\n",
      "LOCC\n",
      "WUSD\n",
      "FFT\n",
      "OMIC\n",
      "MONKE\n",
      "FROST\n",
      "WORDL\n",
      "FREEMOON\n",
      "RIM\n"
     ]
    }
   ],
   "source": [
    "start = dt.datetime(2022,5,1)\n",
    "end = dt.datetime.now()\n",
    "\n",
    "lst_tables = []\n",
    "\n",
    "for i, ticker in enumerate(tickers):\n",
    "    if i % 100 == 0:\n",
    "        print(ticker)\n",
    "    try:\n",
    "        aux = web.DataReader(f'{ticker}-USD', 'yahoo', start, end)\n",
    "    except:\n",
    "        pass\n",
    "    aux['ticker'] = ticker\n",
    "    lst_tables.append(aux)"
   ]
  },
  {
   "cell_type": "code",
   "execution_count": 24,
   "id": "026c6b1e-cbed-417c-99a1-144bcff19ad9",
   "metadata": {},
   "outputs": [
    {
     "data": {
      "text/html": [
       "<div>\n",
       "<style scoped>\n",
       "    .dataframe tbody tr th:only-of-type {\n",
       "        vertical-align: middle;\n",
       "    }\n",
       "\n",
       "    .dataframe tbody tr th {\n",
       "        vertical-align: top;\n",
       "    }\n",
       "\n",
       "    .dataframe thead th {\n",
       "        text-align: right;\n",
       "    }\n",
       "</style>\n",
       "<table border=\"1\" class=\"dataframe\">\n",
       "  <thead>\n",
       "    <tr style=\"text-align: right;\">\n",
       "      <th></th>\n",
       "      <th>High</th>\n",
       "      <th>Low</th>\n",
       "      <th>Open</th>\n",
       "      <th>Close</th>\n",
       "      <th>Volume</th>\n",
       "      <th>Adj Close</th>\n",
       "      <th>ticker</th>\n",
       "    </tr>\n",
       "    <tr>\n",
       "      <th>Date</th>\n",
       "      <th></th>\n",
       "      <th></th>\n",
       "      <th></th>\n",
       "      <th></th>\n",
       "      <th></th>\n",
       "      <th></th>\n",
       "      <th></th>\n",
       "    </tr>\n",
       "  </thead>\n",
       "  <tbody>\n",
       "    <tr>\n",
       "      <th>2022-05-01</th>\n",
       "      <td>38627.859375</td>\n",
       "      <td>37585.789062</td>\n",
       "      <td>37713.265625</td>\n",
       "      <td>38469.093750</td>\n",
       "      <td>2.700276e+10</td>\n",
       "      <td>38469.093750</td>\n",
       "      <td>BTC</td>\n",
       "    </tr>\n",
       "    <tr>\n",
       "      <th>2022-05-02</th>\n",
       "      <td>39074.972656</td>\n",
       "      <td>38156.562500</td>\n",
       "      <td>38472.187500</td>\n",
       "      <td>38529.328125</td>\n",
       "      <td>3.292264e+10</td>\n",
       "      <td>38529.328125</td>\n",
       "      <td>BTC</td>\n",
       "    </tr>\n",
       "    <tr>\n",
       "      <th>2022-05-03</th>\n",
       "      <td>38629.996094</td>\n",
       "      <td>37585.621094</td>\n",
       "      <td>38528.109375</td>\n",
       "      <td>37750.453125</td>\n",
       "      <td>2.732694e+10</td>\n",
       "      <td>37750.453125</td>\n",
       "      <td>BTC</td>\n",
       "    </tr>\n",
       "    <tr>\n",
       "      <th>2022-05-04</th>\n",
       "      <td>39902.949219</td>\n",
       "      <td>37732.058594</td>\n",
       "      <td>37748.011719</td>\n",
       "      <td>39698.371094</td>\n",
       "      <td>3.675440e+10</td>\n",
       "      <td>39698.371094</td>\n",
       "      <td>BTC</td>\n",
       "    </tr>\n",
       "    <tr>\n",
       "      <th>2022-05-05</th>\n",
       "      <td>39789.281250</td>\n",
       "      <td>35856.515625</td>\n",
       "      <td>39695.746094</td>\n",
       "      <td>36575.140625</td>\n",
       "      <td>4.310626e+10</td>\n",
       "      <td>36575.140625</td>\n",
       "      <td>BTC</td>\n",
       "    </tr>\n",
       "  </tbody>\n",
       "</table>\n",
       "</div>"
      ],
      "text/plain": [
       "                    High           Low          Open         Close  \\\n",
       "Date                                                                 \n",
       "2022-05-01  38627.859375  37585.789062  37713.265625  38469.093750   \n",
       "2022-05-02  39074.972656  38156.562500  38472.187500  38529.328125   \n",
       "2022-05-03  38629.996094  37585.621094  38528.109375  37750.453125   \n",
       "2022-05-04  39902.949219  37732.058594  37748.011719  39698.371094   \n",
       "2022-05-05  39789.281250  35856.515625  39695.746094  36575.140625   \n",
       "\n",
       "                  Volume     Adj Close ticker  \n",
       "Date                                           \n",
       "2022-05-01  2.700276e+10  38469.093750    BTC  \n",
       "2022-05-02  3.292264e+10  38529.328125    BTC  \n",
       "2022-05-03  2.732694e+10  37750.453125    BTC  \n",
       "2022-05-04  3.675440e+10  39698.371094    BTC  \n",
       "2022-05-05  4.310626e+10  36575.140625    BTC  "
      ]
     },
     "execution_count": 24,
     "metadata": {},
     "output_type": "execute_result"
    }
   ],
   "source": [
    "historical_data = pd.concat(lst_tables)\n",
    "historical_data.head()"
   ]
  },
  {
   "cell_type": "code",
   "execution_count": 30,
   "id": "be3d5a6a-a91e-4fe9-a436-fc284601e73f",
   "metadata": {},
   "outputs": [
    {
     "name": "stdout",
     "output_type": "stream",
     "text": [
      "<class 'pandas.core.frame.DataFrame'>\n",
      "DatetimeIndex: 128328 entries, 2022-05-01 to 2022-05-13\n",
      "Data columns (total 7 columns):\n",
      " #   Column     Non-Null Count   Dtype  \n",
      "---  ------     --------------   -----  \n",
      " 0   High       128328 non-null  float64\n",
      " 1   Low        128328 non-null  float64\n",
      " 2   Open       128328 non-null  float64\n",
      " 3   Close      128328 non-null  float64\n",
      " 4   Volume     128328 non-null  float64\n",
      " 5   Adj Close  128328 non-null  float64\n",
      " 6   ticker     128328 non-null  object \n",
      "dtypes: float64(6), object(1)\n",
      "memory usage: 7.8+ MB\n"
     ]
    }
   ],
   "source": [
    "historical_data.info()"
   ]
  },
  {
   "cell_type": "code",
   "execution_count": 31,
   "id": "d7bef57d-cb05-45b4-8b4c-bc8f759aab7d",
   "metadata": {},
   "outputs": [
    {
     "data": {
      "text/plain": [
       "META             156\n",
       "RICE             128\n",
       "HERO             128\n",
       "FIRE              91\n",
       "BFC               78\n",
       "                ... \n",
       "RICKMORTYDOXX      1\n",
       "FO                 1\n",
       "HTA                1\n",
       "DGVC               1\n",
       "DUKE               1\n",
       "Name: ticker, Length: 8146, dtype: int64"
      ]
     },
     "execution_count": 31,
     "metadata": {},
     "output_type": "execute_result"
    }
   ],
   "source": [
    "historical_data['ticker'].value_counts()"
   ]
  },
  {
   "cell_type": "code",
   "execution_count": 28,
   "id": "33ae6b63-ed8f-4d4d-8b8d-3a00b0e86c29",
   "metadata": {},
   "outputs": [
    {
     "name": "stdout",
     "output_type": "stream",
     "text": [
      "README.md            \u001b[34mnotebooks\u001b[m\u001b[m/           setup.py\n",
      "instrucciones.ipynb  requirements.txt     \u001b[34msrc\u001b[m\u001b[m/\n"
     ]
    }
   ],
   "source": [
    "ls .."
   ]
  },
  {
   "cell_type": "code",
   "execution_count": 29,
   "id": "c3dcb063-8e19-460a-b6f7-cfdd0262a2a7",
   "metadata": {},
   "outputs": [],
   "source": [
    "historical_data.to_csv('../data/historical_data.csv')"
   ]
  },
  {
   "cell_type": "code",
   "execution_count": null,
   "id": "424926af-007f-4dcf-9e38-7641dc9960b7",
   "metadata": {},
   "outputs": [],
   "source": []
  }
 ],
 "metadata": {
  "kernelspec": {
   "display_name": "general",
   "language": "python",
   "name": "general"
  },
  "language_info": {
   "codemirror_mode": {
    "name": "ipython",
    "version": 3
   },
   "file_extension": ".py",
   "mimetype": "text/x-python",
   "name": "python",
   "nbconvert_exporter": "python",
   "pygments_lexer": "ipython3",
   "version": "3.9.5"
  }
 },
 "nbformat": 4,
 "nbformat_minor": 5
}
