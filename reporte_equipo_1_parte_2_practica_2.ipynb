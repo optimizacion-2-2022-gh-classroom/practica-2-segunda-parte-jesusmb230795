{
 "cells": [
  {
   "cell_type": "markdown",
   "id": "7bba5c1f",
   "metadata": {},
   "source": [
    "<p align = \"center\">\n",
    "    <img src=\"img/cinta.png\" />\n",
    "</p>\n",
    "\n",
    "<p align = \"center\">\n",
    "    <img src=\"img/logo.png\" />\n",
    "</p>\n"
   ]
  },
  {
   "cell_type": "markdown",
   "id": "4f141160-9bdd-44d3-a285-e62c9cc8bb7a",
   "metadata": {},
   "source": [
    "# **Maestría en Ciencia de Datos**\n",
    "## Temas Selectos de Modelado. Primavera 2022.\n",
    "\n",
    "### **Equipo 1** \n",
    "\n",
    "- Nyrma Paulina Hernández Trejo\n",
    "- Aide Jazmín González Cruz\n",
    "- Joel Jaramillo Pacheco\n",
    "- Jesús Enrique Miranda Blanco\n",
    "\n",
    "<br>\n",
    "\n",
    "<div align=\"center\"><h1 style=\"font-weight:bold; font-size: 40px\">Práctica 2</h1></div>\n",
    "\n",
    "\n",
    "# **Segunda parte**"
   ]
  },
  {
   "cell_type": "markdown",
   "id": "09c4e505-6f78-452c-9d6f-adce49472762",
   "metadata": {},
   "source": [
    "Se muestra la ejecución del paquete en el que se muestra el mejoramiento realizado. Para ello se cargan las librerías necesarias:"
   ]
  },
  {
   "cell_type": "code",
   "execution_count": 1,
   "id": "d90c384c-3d9f-4174-821c-d32d1414524a",
   "metadata": {},
   "outputs": [],
   "source": [
    "from IPython.display import display, HTML, Image\n",
    "from datetime import date\n",
    "import pandas as pd\n",
    "import random\n",
    "import numpy as np \n",
    "import networkx as nx\n",
    "import time"
   ]
  },
  {
   "cell_type": "markdown",
   "id": "079fe1ad-174b-4b50-9a99-b0073c27f730",
   "metadata": {},
   "source": [
    "Y se muestran las características de la máquina donde se corrió el código:"
   ]
  },
  {
   "cell_type": "code",
   "execution_count": 9,
   "id": "1b7f197f-4821-45cd-9a62-9443e2bf9507",
   "metadata": {},
   "outputs": [
    {
     "name": "stdout",
     "output_type": "stream",
     "text": [
      "Architecture:                    x86_64\n",
      "CPU op-mode(s):                  32-bit, 64-bit\n",
      "Byte Order:                      Little Endian\n",
      "Address sizes:                   36 bits physical, 48 bits virtual\n",
      "CPU(s):                          4\n",
      "On-line CPU(s) list:             0-3\n",
      "Thread(s) per core:              2\n",
      "Core(s) per socket:              2\n",
      "Socket(s):                       1\n",
      "NUMA node(s):                    1\n",
      "Vendor ID:                       GenuineIntel\n",
      "CPU family:                      6\n",
      "Model:                           58\n",
      "Model name:                      Intel(R) Core(TM) i5-3210M CPU @ 2.50GHz\n",
      "Stepping:                        9\n",
      "CPU MHz:                         2194.284\n",
      "CPU max MHz:                     3100.0000\n",
      "CPU min MHz:                     1200.0000\n",
      "BogoMIPS:                        4988.64\n",
      "Virtualization:                  VT-x\n",
      "L1d cache:                       64 KiB\n",
      "L1i cache:                       64 KiB\n",
      "L2 cache:                        512 KiB\n",
      "L3 cache:                        3 MiB\n",
      "NUMA node0 CPU(s):               0-3\n",
      "Vulnerability Itlb multihit:     KVM: Mitigation: VMX disabled\n",
      "Vulnerability L1tf:              Mitigation; PTE Inversion; VMX conditional cache flushes, SMT vulnerable\n",
      "Vulnerability Mds:               Mitigation; Clear CPU buffers; SMT vulnerable\n",
      "Vulnerability Meltdown:          Mitigation; PTI\n",
      "Vulnerability Spec store bypass: Mitigation; Speculative Store Bypass disabled via prctl and seccomp\n",
      "Vulnerability Spectre v1:        Mitigation; usercopy/swapgs barriers and __user pointer sanitization\n",
      "Vulnerability Spectre v2:        Mitigation; Retpolines, IBPB conditional, IBRS_FW, STIBP conditional, RSB filling\n",
      "Vulnerability Srbds:             Vulnerable: No microcode\n",
      "Vulnerability Tsx async abort:   Not affected\n",
      "Flags:                           fpu vme de pse tsc msr pae mce cx8 apic sep mtrr pge mca cmov pat pse36 clflush dts acpi mmx fxsr sse sse2 ss ht tm pbe syscall nx rdtscp lm constant_tsc arch_perfmon pebs bts rep_good nopl xtopology nonstop_tsc cpuid aperfmperf pni pclmulqdq dtes64 monitor ds_cpl vmx est tm2 ssse3 cx16 xtpr pdcm pcid sse4_1 sse4_2 x2apic popcnt tsc_deadline_timer aes xsave avx f16c rdrand lahf_lm cpuid_fault epb pti ssbd ibrs ibpb stibp tpr_shadow vnmi flexpriority ept vpid fsgsbase smep erms xsaveopt dtherm ida arat pln pts md_clear flush_l1d\n"
     ]
    }
   ],
   "source": [
    "%%bash\n",
    "lscpu"
   ]
  },
  {
   "cell_type": "code",
   "execution_count": null,
   "id": "c33d15e2-2b88-450f-8424-8937801dd338",
   "metadata": {},
   "outputs": [],
   "source": [
    "%%bash\n",
    "sudo lshw -C memory"
   ]
  },
  {
   "cell_type": "code",
   "execution_count": 11,
   "id": "5ebf8507-44b7-4f0d-af8d-38257f6b33a6",
   "metadata": {},
   "outputs": [
    {
     "name": "stdout",
     "output_type": "stream",
     "text": [
      "Linux 5a4ea55e41da 5.13.0-41-generic #46~20.04.1-Ubuntu SMP Wed Apr 20 13:16:21 UTC 2022 x86_64 x86_64 x86_64 GNU/Linux\n"
     ]
    }
   ],
   "source": [
    "%%bash\n",
    "uname -ar #r for kernel, a for all"
   ]
  },
  {
   "cell_type": "markdown",
   "id": "d560cf9c-ff49-4faa-ab75-67ba2ef54676",
   "metadata": {},
   "source": [
    "- **Código original**"
   ]
  },
  {
   "cell_type": "code",
   "execution_count": 2,
   "id": "371db526-2d38-40dc-b9c4-4840bc69014a",
   "metadata": {},
   "outputs": [],
   "source": [
    "def get_data(data_dir, date=date.today().strftime(\"%Y-%m-%d\"), tam_data=100, price='Open'):\n",
    "    \"\"\"\n",
    "    Obtiene datos de un directorio de una fecha dada\n",
    "    param:\n",
    "    data_dir: directorio de datos\n",
    "    date: fecha a analizar, por default toma la fecha actual si no se especifica\n",
    "    tam_data: analiza cierto tamaño del dataset de forma aleatoria, por default son 100 monedas a analizar\n",
    "    price: selecciona con que precio se hará el ejercicio(High,Low,Open,Close), por default es Open\n",
    "    return:\n",
    "    dataframe: con datos especificados\n",
    "    \"\"\"\n",
    "    df = pd.read_csv(data_dir)\n",
    "    df_date = df[df['Date']==date]\n",
    "    df_date = df_date[df_date[price] > 0]\n",
    "    \n",
    "    if(tam_data == None):\n",
    "        df_random = df_date\n",
    "    else:\n",
    "        df_random = df_date.sample(n = tam_data)\n",
    "    \n",
    "    \n",
    "    df_random = df_random.reset_index()\n",
    "    data = df_random[[\"ticker\", price]]\n",
    "    data.columns = ['Símbolo', 'Precio']\n",
    "    \n",
    "    return data    \n",
    "\n",
    "def exchange_rate_matrix(data):\n",
    "    \"\"\"\n",
    "    Exchange Rate Matrix Representation\n",
    "    param:\n",
    "        dataframe\n",
    "    return:\n",
    "        dataframe\n",
    "    \"\"\"\n",
    "    n = data.shape[0]\n",
    "\n",
    "    max_spread_pct = 0.05 # maximum bid-ask spread in pct of bid, 0.05 for 5%\n",
    "\n",
    "    c1 = data[['Precio']]\n",
    "    aux = c1.copy()\n",
    "    random.seed(10)\n",
    "    for i in range(n):\n",
    "        c1[i] = aux/c1[['Precio']].values[i]*(1+random.uniform(0,max_spread_pct))\n",
    "    c1.drop(columns=['Precio'],inplace=True)\n",
    "    for i in range(len(c1.index)):\n",
    "        for j in range(len(c1.columns)):\n",
    "            if i==j:\n",
    "                c1.loc[i,j] = 1\n",
    "    return c1\n",
    "\n",
    "def log_transformed_rep(data):\n",
    "    \"\"\"\n",
    "    Log-Transformed Representations\n",
    "    param:\n",
    "        dataframe\n",
    "    return:\n",
    "        dataframe\n",
    "    \"\"\"\n",
    "    \n",
    "    df_ln = np.round(-np.log(data),2)\n",
    "    return df_ln\n",
    "\n",
    "def create_grap(data):\n",
    "    \"\"\"\n",
    "    Crea grafo a partir de los datos de cripomonedas y precio\n",
    "    param:\n",
    "        dataframe\n",
    "    return:\n",
    "        grafo\n",
    "    \"\"\"\n",
    "    df = exchange_rate_matrix(data)\n",
    "    df_ln = log_transformed_rep(df)\n",
    "    \n",
    "    n = df_ln.shape[0]\n",
    "    \n",
    "    edge = []\n",
    "    # Covert to formatto use un graph\n",
    "    for i in range(n):\n",
    "        for j in range(n):\n",
    "            if (i != j):\n",
    "                edge.append([str(i), str(j), df_ln.loc[i][j]])\n",
    "\n",
    "    G = nx.DiGraph()        \n",
    "    G.add_weighted_edges_from(edge)\n",
    "    \n",
    "    return G\n",
    "\n",
    "def bf_negative_cycle(graph, node_ini=None, distance_ini=np.inf):\n",
    "    \n",
    "    assert distance_ini>=1, f\"La distancia inicial debe de ser mayor o igual a 1. El parámetro fue igual a {distance_ini}\"\n",
    "    \n",
    "    if node_ini is None:\n",
    "        n_nodes = len(graph.nodes())\n",
    "    else:\n",
    "        assert node_ini <= len(graph.nodes), f\"El nodo definido es mayor a los del grafo. Deberia de ser menor a {len(graph.nodes)}.\"\n",
    "        n_nodes = node_ini\n",
    "            \n",
    "    n = len(graph.nodes()) + 1\n",
    "    # Remove nan borders inside graph\n",
    "    edges = []\n",
    "    for edge in graph.edges().data():\n",
    "        if ~np.isnan(edge[2]['weight']):\n",
    "            edges.append(edge)\n",
    "\n",
    "    # Add a start node and add zero weighted edges to all other nodes\n",
    "    for i in range(n-1):\n",
    "        edges.append((n-1, i, {'weight': 0}))\n",
    "\n",
    "    # Initialize distances of nodes and predecessors\n",
    "    distance= np.ones(n) * distance_ini # Starting distances with infinite values\n",
    "    distance[n_nodes] = 0  # Starting node has zero distance\n",
    "    predecessors = np.ones(n) * -1  # Starting predecessors with -1 values\n",
    "    \n",
    "    for i in range(n):  \n",
    "        x = -1\n",
    "        for edge in edges:\n",
    "            if distance[int(edge[0])] + edge[2]['weight'] < distance[int(edge[1])]:  \n",
    "                distance[int(edge[1])] = distance[int(edge[0])] + edge[2]['weight']\n",
    "                predecessors[int(edge[1])] = int(edge[0])\n",
    "                x = int(edge[1])\n",
    "        if x == -1:  # If relaxation is not possible, there is no negative cycle\n",
    "            return None\n",
    "        \n",
    "    # Identify negative cycle\n",
    "    for i in range(n):\n",
    "        x = predecessors[int(x)]\n",
    "    cycle = []\n",
    "    v = x\n",
    "    while True:\n",
    "        cycle.append(int(v))\n",
    "        if v == x and len(cycle) > 1:\n",
    "            break\n",
    "        v = predecessors[int(v)]\n",
    "    \n",
    "    return cycle.reverse()"
   ]
  },
  {
   "cell_type": "markdown",
   "id": "df596ed8-7ae6-48f8-9808-e4216ec9c01a",
   "metadata": {},
   "source": [
    "- **Código perfilado**"
   ]
  },
  {
   "cell_type": "code",
   "execution_count": 3,
   "id": "5143c537-89e8-4ce6-b382-ba94dd5b59dc",
   "metadata": {},
   "outputs": [],
   "source": [
    "def exchange_rate_matrix2(data):\n",
    "    \"\"\"\n",
    "    Exchange Rate Matrix Representation\n",
    "    param:\n",
    "        dataframe\n",
    "    return:\n",
    "        dataframe\n",
    "    \"\"\"\n",
    "    n = data.shape[0]\n",
    "\n",
    "    max_spread_pct = 0.05 # maximum bid-ask spread in pct of bid, 0.05 for 5%\n",
    "\n",
    "    c1 = data[['Precio']]\n",
    "    aux = c1.copy()\n",
    "    random.seed(10)\n",
    "    for i in range(n):\n",
    "        c1[i] = aux/c1.loc[i]['Precio']*(1+random.uniform(0,max_spread_pct))\n",
    "        \n",
    "    c1.drop(columns=['Precio'],inplace=True)\n",
    "    \n",
    "    for i in range(len(c1.index)):\n",
    "        for j in range(len(c1.columns)):\n",
    "            if i==j:\n",
    "                c1.loc[i,j] = 1    \n",
    "    return c1\n",
    "\n",
    "def create_grap2(data):\n",
    "    \"\"\"\n",
    "    Crea grafo a partir de los datos de cripomonedas y precio\n",
    "    param:\n",
    "        dataframe\n",
    "    return:\n",
    "        grafo\n",
    "    \"\"\"\n",
    "    df = exchange_rate_matrix2(data)\n",
    "    df_ln = log_transformed_rep(df)\n",
    "    \n",
    "    n = df_ln.shape[0]\n",
    "    \n",
    "    edge = []\n",
    "    # Covert to formatto use un graph\n",
    "    for i in range(n):\n",
    "        for j in range(n):\n",
    "            if (i != j):\n",
    "                edge.append([str(i), str(j), df_ln.loc[i][j]])\n",
    "\n",
    "    G = nx.DiGraph()        \n",
    "    G.add_weighted_edges_from(edge)\n",
    "    \n",
    "    return G\n",
    "\n",
    "def bf_negative_cycle2(graph, node_ini=None, distance_ini=np.inf):\n",
    "    \n",
    "    assert distance_ini>=1, f\"La distancia inicial debe de ser mayor o igual a 1. El parámetro fue igual a {distance_ini}\"\n",
    "    \n",
    "    n_nodes = len(graph.nodes)\n",
    "    \n",
    "    if node_ini is not None:\n",
    "        assert node_ini <= n_nodes, f\"El nodo definido es mayor a los del grafo. Deberia de ser menor a {n_nodes}.\"\n",
    "        n_nodes = node_ini\n",
    "                    \n",
    "    n = n_nodes + 1\n",
    "    # Remove nan borders inside graph\n",
    "    edges = [edge for edge in graph.edges().data() if ~np.isnan(edge[2]['weight'])]\n",
    "\n",
    "    # Add a start node and add zero weighted edges to all other nodes\n",
    "    for i in range(n-1):\n",
    "        edges.append((n-1, i, {'weight': 0}))\n",
    "        \n",
    "    # Initialize distances of nodes and predecessors\n",
    "    # https://codingdeekshi.com/initialize-an-array-in-python/\n",
    "    distance= [distance_ini ]*n\n",
    "    distance[n_nodes] = 0  \n",
    "    predecessors = [-1]*n \n",
    "    \n",
    "    for i in range(n):  \n",
    "        x = -1\n",
    "        for edge in edges:\n",
    "            if distance[int(edge[0])] + edge[2]['weight'] < distance[int(edge[1])]:                \n",
    "                distance[int(edge[1])] = distance[int(edge[0])] + edge[2]['weight']\n",
    "                predecessors[int(edge[1])] = int(edge[0])\n",
    "                x = int(edge[1])\n",
    "        if x == -1:  # If relaxation is not possible, there is no negative cycle\n",
    "            return None\n",
    "        \n",
    "    # Identify negative cycle\n",
    "    for i in range(n):\n",
    "        x = predecessors[int(x)]\n",
    "    cycle = []\n",
    "    v = x\n",
    "    while True:\n",
    "        cycle.append(int(v))\n",
    "        if v == x and len(cycle) > 1:\n",
    "            break\n",
    "        v = predecessors[int(v)]\n",
    "    \n",
    "    return cycle.reverse()"
   ]
  },
  {
   "cell_type": "markdown",
   "id": "0f34190a-cc26-4aa4-8a12-b680da9dff28",
   "metadata": {},
   "source": [
    "## **Tiempo**\n",
    "\n",
    "Se muestra la corrida del paquete anterior vs el perfilado con *time* y *timeit*"
   ]
  },
  {
   "cell_type": "markdown",
   "id": "5e0b6c27-cec4-488c-9025-68d29cc23772",
   "metadata": {},
   "source": [
    "### ***Time***"
   ]
  },
  {
   "cell_type": "markdown",
   "id": "25fa2300-63b2-4c88-8e87-3430451a16ae",
   "metadata": {},
   "source": [
    "- Código original proceso completo"
   ]
  },
  {
   "cell_type": "code",
   "execution_count": 6,
   "id": "06b5fac5-53de-43e0-992d-3f2dbf387366",
   "metadata": {},
   "outputs": [
    {
     "name": "stdout",
     "output_type": "stream",
     "text": [
      "Arbitrage Identification Cycle in Crypto Trading tomó:  4.627994060516357 segundos\n",
      "Bellman ford tomó:  3.1854867935180664 segundos\n"
     ]
    }
   ],
   "source": [
    "start_time_c = time.time()\n",
    "df = get_data('data/historical_data.csv', '2022-05-12')\n",
    "G = create_grap(df)\n",
    "start_time_m = time.time()\n",
    "bf_negative_cycle(G)\n",
    "end_time = time.time()\n",
    "secs_c = end_time-start_time_c\n",
    "secs_m = end_time-start_time_m\n",
    "print(\"Arbitrage Identification Cycle in Crypto Trading tomó: \",secs_c,\"segundos\")\n",
    "print(\"Bellman ford tomó: \",secs_m,\"segundos\")"
   ]
  },
  {
   "cell_type": "markdown",
   "id": "3d564c31-1f1a-43ff-bae7-bb3a56066b57",
   "metadata": {},
   "source": [
    "- Código perfilado proceso completo"
   ]
  },
  {
   "cell_type": "code",
   "execution_count": 8,
   "id": "aed25941-8c94-487c-a99c-6c4602d298e7",
   "metadata": {},
   "outputs": [
    {
     "name": "stdout",
     "output_type": "stream",
     "text": [
      "Arbitrage Identification Cycle in Crypto Trading tomó:  3.5411875247955322 segundos\n",
      "Bellman ford tomó:  2.1046359539031982 segundos\n"
     ]
    }
   ],
   "source": [
    "start_time_c = time.time()\n",
    "df = get_data('data/historical_data.csv', '2022-05-12')\n",
    "G = create_grap2(df)\n",
    "start_time_m = time.time()\n",
    "bf_negative_cycle2(G)\n",
    "end_time = time.time()\n",
    "secs_c = end_time-start_time_c\n",
    "secs_m = end_time-start_time_m\n",
    "print(\"Arbitrage Identification Cycle in Crypto Trading tomó: \",secs_c,\"segundos\")\n",
    "print(\"Bellman ford tomó: \",secs_m,\"segundos\")"
   ]
  },
  {
   "cell_type": "markdown",
   "id": "1e636d46-72d5-48ea-8ba3-157a6aa17d94",
   "metadata": {},
   "source": [
    "### ***Timeit***"
   ]
  },
  {
   "cell_type": "markdown",
   "id": "165e43f3-c7f0-4ef5-a72c-d40c991e31f6",
   "metadata": {},
   "source": [
    "- Bellman ford trabajado en prácticas anteriores"
   ]
  },
  {
   "cell_type": "code",
   "execution_count": 13,
   "id": "38afe8b5-c015-4460-a511-38f41dd0f0f3",
   "metadata": {},
   "outputs": [
    {
     "name": "stdout",
     "output_type": "stream",
     "text": [
      "2.69 s ± 73.3 ms per loop (mean ± std. dev. of 7 runs, 1 loop each)\n"
     ]
    }
   ],
   "source": [
    "%timeit bf_negative_cycle(G)"
   ]
  },
  {
   "cell_type": "markdown",
   "id": "af1b3a4f-f076-4fef-9204-6702d6dbfa39",
   "metadata": {},
   "source": [
    "- Bellman ford perfilado"
   ]
  },
  {
   "cell_type": "code",
   "execution_count": 14,
   "id": "48acca44-fb7f-456b-a888-9ea4761d9d85",
   "metadata": {},
   "outputs": [
    {
     "name": "stdout",
     "output_type": "stream",
     "text": [
      "2.03 s ± 93.7 ms per loop (mean ± std. dev. of 7 runs, 1 loop each)\n"
     ]
    }
   ],
   "source": [
    "%timeit bf_negative_cycle2(G)"
   ]
  },
  {
   "cell_type": "markdown",
   "id": "b5d6dc2a-a353-4321-9cc4-733a6dbf3ff0",
   "metadata": {},
   "source": [
    "### ***cProfile***"
   ]
  },
  {
   "cell_type": "code",
   "execution_count": 15,
   "id": "e31d74ee-9a3a-4dc4-916a-c1d4e86ece73",
   "metadata": {},
   "outputs": [
    {
     "name": "stdout",
     "output_type": "stream",
     "text": [
      "Defaulting to user installation because normal site-packages is not writeable\n",
      "\u001b[31mERROR: Could not find a version that satisfies the requirement cProfile (from versions: none)\u001b[0m\u001b[31m\n",
      "\u001b[0m\u001b[31mERROR: No matching distribution found for cProfile\u001b[0m\u001b[31m\n",
      "\u001b[0m\u001b[33mWARNING: You are using pip version 22.0.2; however, version 22.1 is available.\n",
      "You should consider upgrading via the '/usr/bin/python3 -m pip install --upgrade pip' command.\u001b[0m\u001b[33m\n",
      "\u001b[0m"
     ]
    }
   ],
   "source": [
    "! pip install cProfile"
   ]
  },
  {
   "cell_type": "code",
   "execution_count": 16,
   "id": "168fc5b6-5cbd-4aa3-a3bf-d3986029f81f",
   "metadata": {},
   "outputs": [],
   "source": [
    "import cProfile"
   ]
  },
  {
   "cell_type": "markdown",
   "id": "d86e8aea-f066-4b1c-b152-fa3f852f3bb6",
   "metadata": {},
   "source": [
    "- Bellman ford trabajado en prácticas anteriores"
   ]
  },
  {
   "cell_type": "code",
   "execution_count": 17,
   "id": "f65702a4-4414-45ac-afc7-85941f13b856",
   "metadata": {},
   "outputs": [
    {
     "name": "stdout",
     "output_type": "stream",
     "text": [
      "         29985 function calls (29983 primitive calls) in 3.047 seconds\n",
      "\n",
      "   Ordered by: cumulative time\n",
      "\n",
      "   ncalls  tottime  percall  cumtime  percall filename:lineno(function)\n",
      "        2    0.000    0.000    3.047    1.523 interactiveshell.py:3416(run_code)\n",
      "        2    0.000    0.000    3.047    1.523 {built-in method builtins.exec}\n",
      "        1    0.001    0.001    3.047    3.047 1203246769.py:3(<module>)\n",
      "        1    3.028    3.028    3.046    3.046 2869294132.py:89(bf_negative_cycle)\n",
      "     9901    0.012    0.000    0.016    0.000 reportviews.py:726(<genexpr>)\n",
      "     9900    0.004    0.000    0.004    0.000 reportviews.py:712(<lambda>)\n",
      "    10003    0.002    0.000    0.002    0.000 {method 'append' of 'list' objects}\n",
      "        2    0.000    0.000    0.000    0.000 numeric.py:149(ones)\n",
      "        2    0.000    0.000    0.000    0.000 codeop.py:142(__call__)\n",
      "        2    0.000    0.000    0.000    0.000 {built-in method builtins.compile}\n",
      "        2    0.000    0.000    0.000    0.000 <__array_function__ internals>:2(copyto)\n",
      "      101    0.000    0.000    0.000    0.000 {method 'items' of 'dict' objects}\n",
      "        2    0.000    0.000    0.000    0.000 {built-in method numpy.core._multiarray_umath.implement_array_function}\n",
      "        2    0.000    0.000    0.000    0.000 graph.py:661(nodes)\n",
      "        1    0.000    0.000    0.000    0.000 digraph.py:839(edges)\n",
      "        1    0.000    0.000    0.000    0.000 reportviews.py:1003(__init__)\n",
      "        2    0.000    0.000    0.000    0.000 contextlib.py:238(helper)\n",
      "        2    0.000    0.000    0.000    0.000 {built-in method numpy.empty}\n",
      "        2    0.000    0.000    0.000    0.000 contextlib.py:108(__enter__)\n",
      "        4    0.000    0.000    0.000    0.000 {built-in method builtins.next}\n",
      "        1    0.000    0.000    0.000    0.000 1203246769.py:4(<module>)\n",
      "        2    0.000    0.000    0.000    0.000 contextlib.py:117(__exit__)\n",
      "        1    0.000    0.000    0.000    0.000 reportviews.py:1040(data)\n",
      "        2    0.000    0.000    0.000    0.000 contextlib.py:82(__init__)\n",
      "        1    0.000    0.000    0.000    0.000 {built-in method builtins.hasattr}\n",
      "        2    0.000    0.000    0.000    0.000 traitlets.py:566(__get__)\n",
      "        4    0.000    0.000    0.000    0.000 compilerop.py:166(extra_flags)\n",
      "        2    0.000    0.000    0.000    0.000 reportviews.py:177(__init__)\n",
      "      6/4    0.000    0.000    0.000    0.000 {built-in method builtins.len}\n",
      "        1    0.000    0.000    0.000    0.000 digraph.py:342(succ)\n",
      "        2    0.000    0.000    0.000    0.000 hooks.py:103(__call__)\n",
      "        1    0.000    0.000    0.000    0.000 reportviews.py:725(__iter__)\n",
      "        1    0.000    0.000    0.000    0.000 reportviews.py:698(__init__)\n",
      "        4    0.000    0.000    0.000    0.000 {built-in method builtins.getattr}\n",
      "        2    0.000    0.000    0.000    0.000 traitlets.py:535(get)\n",
      "        2    0.000    0.000    0.000    0.000 interactiveshell.py:3354(compare)\n",
      "        2    0.000    0.000    0.000    0.000 ipstruct.py:125(__getattr__)\n",
      "        2    0.000    0.000    0.000    0.000 reportviews.py:181(__len__)\n",
      "        2    0.000    0.000    0.000    0.000 interactiveshell.py:1286(user_global_ns)\n",
      "        2    0.000    0.000    0.000    0.000 multiarray.py:1071(copyto)\n",
      "        1    0.000    0.000    0.000    0.000 coreviews.py:44(__init__)\n",
      "        1    0.000    0.000    0.000    0.000 {method 'reverse' of 'list' objects}\n",
      "        2    0.000    0.000    0.000    0.000 hooks.py:168(pre_run_code_hook)\n",
      "        2    0.000    0.000    0.000    0.000 reportviews.py:204(__call__)\n",
      "        1    0.000    0.000    0.000    0.000 reportviews.py:1035(__call__)\n",
      "        1    0.000    0.000    0.000    0.000 {method 'disable' of '_lsprof.Profiler' objects}\n",
      "\n",
      "\n"
     ]
    }
   ],
   "source": [
    "cprof = cProfile.Profile()\n",
    "cprof.enable()\n",
    "res = bf_negative_cycle(G)\n",
    "cprof.disable()\n",
    "cprof.print_stats(sort='cumtime')"
   ]
  },
  {
   "cell_type": "markdown",
   "id": "545a00e2-bf73-4aa3-971a-d05313d3a31a",
   "metadata": {},
   "source": [
    "- Bellman ford perfilado"
   ]
  },
  {
   "cell_type": "code",
   "execution_count": 18,
   "id": "2c568546-558a-4db7-98d4-8bdfa4a666c1",
   "metadata": {},
   "outputs": [
    {
     "name": "stdout",
     "output_type": "stream",
     "text": [
      "         20069 function calls (20068 primitive calls) in 2.239 seconds\n",
      "\n",
      "   Ordered by: cumulative time\n",
      "\n",
      "   ncalls  tottime  percall  cumtime  percall filename:lineno(function)\n",
      "        2    0.000    0.000    2.239    1.119 interactiveshell.py:3416(run_code)\n",
      "        2    0.000    0.000    2.239    1.119 {built-in method builtins.exec}\n",
      "        1    0.000    0.000    2.239    2.239 1890767263.py:3(<module>)\n",
      "        1    2.154    2.154    2.238    2.238 3611830932.py:52(bf_negative_cycle2)\n",
      "        1    0.070    0.070    0.085    0.085 3611830932.py:64(<listcomp>)\n",
      "     9901    0.010    0.000    0.015    0.000 reportviews.py:726(<genexpr>)\n",
      "     9900    0.005    0.000    0.005    0.000 reportviews.py:712(<lambda>)\n",
      "        2    0.000    0.000    0.000    0.000 codeop.py:142(__call__)\n",
      "        2    0.000    0.000    0.000    0.000 {built-in method builtins.compile}\n",
      "      101    0.000    0.000    0.000    0.000 {method 'items' of 'dict' objects}\n",
      "        2    0.000    0.000    0.000    0.000 contextlib.py:238(helper)\n",
      "      103    0.000    0.000    0.000    0.000 {method 'append' of 'list' objects}\n",
      "        2    0.000    0.000    0.000    0.000 contextlib.py:117(__exit__)\n",
      "        4    0.000    0.000    0.000    0.000 {built-in method builtins.next}\n",
      "        2    0.000    0.000    0.000    0.000 contextlib.py:108(__enter__)\n",
      "        1    0.000    0.000    0.000    0.000 digraph.py:839(edges)\n",
      "        2    0.000    0.000    0.000    0.000 contextlib.py:82(__init__)\n",
      "        1    0.000    0.000    0.000    0.000 reportviews.py:1003(__init__)\n",
      "        4    0.000    0.000    0.000    0.000 compilerop.py:166(extra_flags)\n",
      "        1    0.000    0.000    0.000    0.000 reportviews.py:1040(data)\n",
      "        1    0.000    0.000    0.000    0.000 graph.py:661(nodes)\n",
      "        2    0.000    0.000    0.000    0.000 traitlets.py:566(__get__)\n",
      "        1    0.000    0.000    0.000    0.000 reportviews.py:725(__iter__)\n",
      "        2    0.000    0.000    0.000    0.000 hooks.py:103(__call__)\n",
      "        1    0.000    0.000    0.000    0.000 {built-in method builtins.hasattr}\n",
      "        1    0.000    0.000    0.000    0.000 1890767263.py:4(<module>)\n",
      "        1    0.000    0.000    0.000    0.000 reportviews.py:698(__init__)\n",
      "      4/3    0.000    0.000    0.000    0.000 {built-in method builtins.len}\n",
      "        4    0.000    0.000    0.000    0.000 {built-in method builtins.getattr}\n",
      "        1    0.000    0.000    0.000    0.000 digraph.py:342(succ)\n",
      "        2    0.000    0.000    0.000    0.000 interactiveshell.py:3354(compare)\n",
      "        2    0.000    0.000    0.000    0.000 traitlets.py:535(get)\n",
      "        2    0.000    0.000    0.000    0.000 ipstruct.py:125(__getattr__)\n",
      "        2    0.000    0.000    0.000    0.000 interactiveshell.py:1286(user_global_ns)\n",
      "        1    0.000    0.000    0.000    0.000 reportviews.py:177(__init__)\n",
      "        1    0.000    0.000    0.000    0.000 reportviews.py:181(__len__)\n",
      "        1    0.000    0.000    0.000    0.000 coreviews.py:44(__init__)\n",
      "        2    0.000    0.000    0.000    0.000 hooks.py:168(pre_run_code_hook)\n",
      "        1    0.000    0.000    0.000    0.000 reportviews.py:1035(__call__)\n",
      "        1    0.000    0.000    0.000    0.000 {method 'disable' of '_lsprof.Profiler' objects}\n",
      "        1    0.000    0.000    0.000    0.000 {method 'reverse' of 'list' objects}\n",
      "\n",
      "\n"
     ]
    }
   ],
   "source": [
    "cprof = cProfile.Profile()\n",
    "cprof.enable()\n",
    "res = bf_negative_cycle2(G)\n",
    "cprof.disable()\n",
    "cprof.print_stats(sort='cumtime')"
   ]
  },
  {
   "cell_type": "markdown",
   "id": "bf19fb71-2df4-450d-9973-f285308383d4",
   "metadata": {},
   "source": [
    "### ***line_profiler***"
   ]
  },
  {
   "cell_type": "code",
   "execution_count": 19,
   "id": "df4464b3-52d1-400a-98bb-6e58751e683f",
   "metadata": {},
   "outputs": [
    {
     "name": "stdout",
     "output_type": "stream",
     "text": [
      "Defaulting to user installation because normal site-packages is not writeable\n",
      "Requirement already satisfied: line_profiler in /home/myuser/.local/lib/python3.8/site-packages (3.4.0)\n",
      "Requirement already satisfied: IPython>=0.13 in /home/myuser/.local/lib/python3.8/site-packages (from line_profiler) (7.31.1)\n",
      "Requirement already satisfied: jedi>=0.16 in /usr/local/lib/python3.8/dist-packages (from IPython>=0.13->line_profiler) (0.18.1)\n",
      "Requirement already satisfied: pickleshare in /usr/local/lib/python3.8/dist-packages (from IPython>=0.13->line_profiler) (0.7.5)\n",
      "Requirement already satisfied: matplotlib-inline in /usr/local/lib/python3.8/dist-packages (from IPython>=0.13->line_profiler) (0.1.3)\n",
      "Requirement already satisfied: pygments in /usr/local/lib/python3.8/dist-packages (from IPython>=0.13->line_profiler) (2.11.2)\n",
      "Requirement already satisfied: pexpect>4.3 in /usr/local/lib/python3.8/dist-packages (from IPython>=0.13->line_profiler) (4.8.0)\n",
      "Requirement already satisfied: setuptools>=18.5 in /usr/lib/python3/dist-packages (from IPython>=0.13->line_profiler) (45.2.0)\n",
      "Requirement already satisfied: decorator in /usr/local/lib/python3.8/dist-packages (from IPython>=0.13->line_profiler) (5.1.1)\n",
      "Requirement already satisfied: backcall in /usr/local/lib/python3.8/dist-packages (from IPython>=0.13->line_profiler) (0.2.0)\n",
      "Requirement already satisfied: traitlets>=4.2 in /usr/local/lib/python3.8/dist-packages (from IPython>=0.13->line_profiler) (5.1.1)\n",
      "Requirement already satisfied: prompt-toolkit!=3.0.0,!=3.0.1,<3.1.0,>=2.0.0 in /usr/local/lib/python3.8/dist-packages (from IPython>=0.13->line_profiler) (3.0.26)\n",
      "Requirement already satisfied: parso<0.9.0,>=0.8.0 in /usr/local/lib/python3.8/dist-packages (from jedi>=0.16->IPython>=0.13->line_profiler) (0.8.3)\n",
      "Requirement already satisfied: ptyprocess>=0.5 in /usr/local/lib/python3.8/dist-packages (from pexpect>4.3->IPython>=0.13->line_profiler) (0.7.0)\n",
      "Requirement already satisfied: wcwidth in /usr/local/lib/python3.8/dist-packages (from prompt-toolkit!=3.0.0,!=3.0.1,<3.1.0,>=2.0.0->IPython>=0.13->line_profiler) (0.2.5)\n",
      "\u001b[33mWARNING: You are using pip version 22.0.2; however, version 22.1 is available.\n",
      "You should consider upgrading via the '/usr/bin/python3 -m pip install --upgrade pip' command.\u001b[0m\u001b[33m\n",
      "\u001b[0m"
     ]
    }
   ],
   "source": [
    "! pip install line_profiler"
   ]
  },
  {
   "cell_type": "code",
   "execution_count": 21,
   "id": "51ca2a55-767b-4ded-b70d-280d8faf3ee9",
   "metadata": {},
   "outputs": [],
   "source": [
    "import line_profiler"
   ]
  },
  {
   "cell_type": "markdown",
   "id": "5ac14038-d275-42fb-b2a6-b1b2b31c204f",
   "metadata": {},
   "source": [
    "- Bellman ford trabajado en prácticas anteriores"
   ]
  },
  {
   "cell_type": "code",
   "execution_count": 22,
   "id": "31b13658-561d-4b77-b74a-fd6603e139fb",
   "metadata": {},
   "outputs": [
    {
     "name": "stdout",
     "output_type": "stream",
     "text": [
      "None\n",
      "Timer unit: 1e-06 s\n",
      "\n",
      "Total time: 9.04683 s\n",
      "File: /tmp/ipykernel_47/2869294132.py\n",
      "Function: bf_negative_cycle at line 89\n",
      "\n",
      "Line #      Hits         Time  Per Hit   % Time  Line Contents\n",
      "==============================================================\n",
      "    89                                           def bf_negative_cycle(graph, node_ini=None, distance_ini=np.inf):\n",
      "    90                                               \n",
      "    91         1          3.0      3.0      0.0      assert distance_ini>=1, f\"La distancia inicial debe de ser mayor o igual a 1. El parámetro fue igual a {distance_ini}\"\n",
      "    92                                               \n",
      "    93         1          2.0      2.0      0.0      if node_ini is None:\n",
      "    94         1         45.0     45.0      0.0          n_nodes = len(graph.nodes())\n",
      "    95                                               else:\n",
      "    96                                                   assert node_ini <= len(graph.nodes), f\"El nodo definido es mayor a los del grafo. Deberia de ser menor a {len(graph.nodes)}.\"\n",
      "    97                                                   n_nodes = node_ini\n",
      "    98                                                       \n",
      "    99         1          7.0      7.0      0.0      n = len(graph.nodes()) + 1\n",
      "   100                                               # Remove nan borders inside graph\n",
      "   101         1          1.0      1.0      0.0      edges = []\n",
      "   102      9901      97949.0      9.9      1.1      for edge in graph.edges().data():\n",
      "   103      9900      94838.0      9.6      1.0          if ~np.isnan(edge[2]['weight']):\n",
      "   104      9900      17986.0      1.8      0.2              edges.append(edge)\n",
      "   105                                           \n",
      "   106                                               # Add a start node and add zero weighted edges to all other nodes\n",
      "   107       101        109.0      1.1      0.0      for i in range(n-1):\n",
      "   108       100        153.0      1.5      0.0          edges.append((n-1, i, {'weight': 0}))\n",
      "   109                                           \n",
      "   110                                               # Initialize distances of nodes and predecessors\n",
      "   111         1         68.0     68.0      0.0      distance= np.ones(n) * distance_ini # Starting distances with infinite values\n",
      "   112         1          4.0      4.0      0.0      distance[n_nodes] = 0  # Starting node has zero distance\n",
      "   113         1         18.0     18.0      0.0      predecessors = np.ones(n) * -1  # Starting predecessors with -1 values\n",
      "   114                                               \n",
      "   115       102        137.0      1.3      0.0      for i in range(n):  \n",
      "   116       101         93.0      0.9      0.0          x = -1\n",
      "   117   1010101    1017165.0      1.0     11.2          for edge in edges:\n",
      "   118   1010000    2706048.0      2.7     29.9              if distance[int(edge[0])] + edge[2]['weight'] < distance[int(edge[1])]:  \n",
      "   119    903268    2206635.0      2.4     24.4                  distance[int(edge[1])] = distance[int(edge[0])] + edge[2]['weight']\n",
      "   120    903268    1717998.0      1.9     19.0                  predecessors[int(edge[1])] = int(edge[0])\n",
      "   121    903268    1187009.0      1.3     13.1                  x = int(edge[1])\n",
      "   122       101        136.0      1.3      0.0          if x == -1:  # If relaxation is not possible, there is no negative cycle\n",
      "   123                                                       return None\n",
      "   124                                                   \n",
      "   125                                               # Identify negative cycle\n",
      "   126       102        142.0      1.4      0.0      for i in range(n):\n",
      "   127       101        258.0      2.6      0.0          x = predecessors[int(x)]\n",
      "   128         1          1.0      1.0      0.0      cycle = []\n",
      "   129         1          1.0      1.0      0.0      v = x\n",
      "   130                                               while True:\n",
      "   131         3         10.0      3.3      0.0          cycle.append(int(v))\n",
      "   132         3          8.0      2.7      0.0          if v == x and len(cycle) > 1:\n",
      "   133         1          2.0      2.0      0.0              break\n",
      "   134         2          6.0      3.0      0.0          v = predecessors[int(v)]\n",
      "   135                                               \n",
      "   136         1          3.0      3.0      0.0      return cycle.reverse()\n",
      "\n",
      "None\n"
     ]
    }
   ],
   "source": [
    "line_prof = line_profiler.LineProfiler()\n",
    "print(line_prof(bf_negative_cycle)(G))\n",
    "print(line_prof.print_stats())"
   ]
  },
  {
   "cell_type": "markdown",
   "id": "87667a23-5376-49f8-af7b-0d4e917e7f4f",
   "metadata": {},
   "source": [
    "- Bellman ford perfilado"
   ]
  },
  {
   "cell_type": "code",
   "execution_count": 23,
   "id": "d308f47a-d4a1-48e1-8bc9-4f38e2af6f7f",
   "metadata": {},
   "outputs": [
    {
     "name": "stdout",
     "output_type": "stream",
     "text": [
      "None\n",
      "Timer unit: 1e-06 s\n",
      "\n",
      "Total time: 8.14307 s\n",
      "File: /tmp/ipykernel_47/3611830932.py\n",
      "Function: bf_negative_cycle2 at line 52\n",
      "\n",
      "Line #      Hits         Time  Per Hit   % Time  Line Contents\n",
      "==============================================================\n",
      "    52                                           def bf_negative_cycle2(graph, node_ini=None, distance_ini=np.inf):\n",
      "    53                                               \n",
      "    54         1          4.0      4.0      0.0      assert distance_ini>=1, f\"La distancia inicial debe de ser mayor o igual a 1. El parámetro fue igual a {distance_ini}\"\n",
      "    55                                               \n",
      "    56         1         17.0     17.0      0.0      n_nodes = len(graph.nodes)\n",
      "    57                                               \n",
      "    58         1          2.0      2.0      0.0      if node_ini is not None:\n",
      "    59                                                   assert node_ini <= n_nodes, f\"El nodo definido es mayor a los del grafo. Deberia de ser menor a {n_nodes}.\"\n",
      "    60                                                   n_nodes = node_ini\n",
      "    61                                                               \n",
      "    62         1          2.0      2.0      0.0      n = n_nodes + 1\n",
      "    63                                               # Remove nan borders inside graph\n",
      "    64         1     107814.0 107814.0      1.3      edges = [edge for edge in graph.edges().data() if ~np.isnan(edge[2]['weight'])]\n",
      "    65                                           \n",
      "    66                                               # Add a start node and add zero weighted edges to all other nodes\n",
      "    67       101        114.0      1.1      0.0      for i in range(n-1):\n",
      "    68       100        173.0      1.7      0.0          edges.append((n-1, i, {'weight': 0}))\n",
      "    69                                                   \n",
      "    70                                               # Initialize distances of nodes and predecessors\n",
      "    71                                               # https://codingdeekshi.com/initialize-an-array-in-python/\n",
      "    72         1          6.0      6.0      0.0      distance= [distance_ini ]*n\n",
      "    73         1          2.0      2.0      0.0      distance[n_nodes] = 0  \n",
      "    74         1          4.0      4.0      0.0      predecessors = [-1]*n \n",
      "    75                                               \n",
      "    76       102        141.0      1.4      0.0      for i in range(n):  \n",
      "    77       101        110.0      1.1      0.0          x = -1\n",
      "    78   1010101    1104461.0      1.1     13.6          for edge in edges:\n",
      "    79   1010000    2332072.0      2.3     28.6              if distance[int(edge[0])] + edge[2]['weight'] < distance[int(edge[1])]:                \n",
      "    80    903268    1884092.0      2.1     23.1                  distance[int(edge[1])] = distance[int(edge[0])] + edge[2]['weight']\n",
      "    81    903268    1487897.0      1.6     18.3                  predecessors[int(edge[1])] = int(edge[0])\n",
      "    82    903268    1225731.0      1.4     15.1                  x = int(edge[1])\n",
      "    83       101        133.0      1.3      0.0          if x == -1:  # If relaxation is not possible, there is no negative cycle\n",
      "    84                                                       return None\n",
      "    85                                                   \n",
      "    86                                               # Identify negative cycle\n",
      "    87       102        127.0      1.2      0.0      for i in range(n):\n",
      "    88       101        152.0      1.5      0.0          x = predecessors[int(x)]\n",
      "    89         1          1.0      1.0      0.0      cycle = []\n",
      "    90         1          1.0      1.0      0.0      v = x\n",
      "    91                                               while True:\n",
      "    92         3          6.0      2.0      0.0          cycle.append(int(v))\n",
      "    93         3          4.0      1.3      0.0          if v == x and len(cycle) > 1:\n",
      "    94         1          1.0      1.0      0.0              break\n",
      "    95         2          3.0      1.5      0.0          v = predecessors[int(v)]\n",
      "    96                                               \n",
      "    97         1          2.0      2.0      0.0      return cycle.reverse()\n",
      "\n",
      "None\n"
     ]
    }
   ],
   "source": [
    "line_prof = line_profiler.LineProfiler()\n",
    "print(line_prof(bf_negative_cycle2)(G))\n",
    "print(line_prof.print_stats())"
   ]
  },
  {
   "cell_type": "markdown",
   "id": "f1693809-fbf2-42be-88c3-5435170e0668",
   "metadata": {},
   "source": [
    "## **Memoria**\n",
    "\n",
    "Se muestra la corridas con los paquetes para ver el mejoramiento usando *memory_profiler*"
   ]
  },
  {
   "cell_type": "code",
   "execution_count": 24,
   "id": "77309e29-07c5-4c5f-a6ba-c4dcdefee82f",
   "metadata": {},
   "outputs": [],
   "source": [
    "from memory_profiler import memory_usage"
   ]
  },
  {
   "cell_type": "markdown",
   "id": "a72e0730-0c6a-42d2-849e-0f0ff236f32b",
   "metadata": {},
   "source": [
    "- Bellman ford trabajado en prácticas anteriores"
   ]
  },
  {
   "cell_type": "code",
   "execution_count": 26,
   "id": "762c18be-9f6f-415d-803a-d84be3e70532",
   "metadata": {},
   "outputs": [
    {
     "name": "stdout",
     "output_type": "stream",
     "text": [
      "119.5\n"
     ]
    }
   ],
   "source": [
    "t = (bf_negative_cycle, (G,1,100000))\n",
    "print(memory_usage(t, max_usage=True))"
   ]
  },
  {
   "cell_type": "code",
   "execution_count": 27,
   "id": "730d7507-5be9-45a7-9bc5-0fa6df7b64eb",
   "metadata": {},
   "outputs": [
    {
     "name": "stdout",
     "output_type": "stream",
     "text": [
      "start mem 119.515625\n",
      "max mem 119.515625\n",
      "used mem 0.0\n",
      "fun output None\n"
     ]
    }
   ],
   "source": [
    "start_mem = memory_usage(max_usage=True)\n",
    "res = memory_usage(t, max_usage=True, retval=True)\n",
    "print('start mem', start_mem)\n",
    "print('max mem', res[0])\n",
    "print('used mem', res[0]-start_mem)\n",
    "print('fun output', res[1])"
   ]
  },
  {
   "cell_type": "markdown",
   "id": "93bccd9a-1ea8-4eff-8d8f-07903687ddc5",
   "metadata": {},
   "source": [
    "- Bellman ford perfilado"
   ]
  },
  {
   "cell_type": "code",
   "execution_count": 32,
   "id": "62726d4a-3223-4174-be46-d9a38f95cd23",
   "metadata": {},
   "outputs": [
    {
     "name": "stdout",
     "output_type": "stream",
     "text": [
      "119.67578125\n"
     ]
    }
   ],
   "source": [
    "t = (bf_negative_cycle2, (G,None,100000))\n",
    "print(memory_usage(t, max_usage=True))"
   ]
  },
  {
   "cell_type": "code",
   "execution_count": 33,
   "id": "ef6b8f24-d5c3-4c48-9159-9f12026280af",
   "metadata": {},
   "outputs": [
    {
     "name": "stdout",
     "output_type": "stream",
     "text": [
      "start mem 119.68359375\n",
      "max mem 119.6875\n",
      "used mem 0.00390625\n",
      "fun output None\n"
     ]
    }
   ],
   "source": [
    "start_mem = memory_usage(max_usage=True)\n",
    "res = memory_usage(t, max_usage=True, retval=True)\n",
    "print('start mem', start_mem)\n",
    "print('max mem', res[0])\n",
    "print('used mem', res[0]-start_mem)\n",
    "print('fun output', res[1])"
   ]
  },
  {
   "cell_type": "code",
   "execution_count": null,
   "id": "e81dab94-d406-4f5f-a2ed-49802cb92488",
   "metadata": {},
   "outputs": [],
   "source": []
  }
 ],
 "metadata": {
  "kernelspec": {
   "display_name": "Python 3 (ipykernel)",
   "language": "python",
   "name": "python3"
  },
  "language_info": {
   "codemirror_mode": {
    "name": "ipython",
    "version": 3
   },
   "file_extension": ".py",
   "mimetype": "text/x-python",
   "name": "python",
   "nbconvert_exporter": "python",
   "pygments_lexer": "ipython3",
   "version": "3.8.10"
  }
 },
 "nbformat": 4,
 "nbformat_minor": 5
}
