{
 "cells": [
  {
   "cell_type": "markdown",
   "id": "7bba5c1f",
   "metadata": {},
   "source": [
    "<p align = \"center\">\n",
    "    <img src=\"img/cinta.png\" />\n",
    "</p>\n",
    "\n",
    "<p align = \"center\">\n",
    "    <img src=\"img/logo.png\" />\n",
    "</p>\n"
   ]
  },
  {
   "cell_type": "markdown",
   "id": "4f141160-9bdd-44d3-a285-e62c9cc8bb7a",
   "metadata": {},
   "source": [
    "# **Maestría en Ciencia de Datos**\n",
    "## Temas Selectos de Modelado. Primavera 2022.\n",
    "\n",
    "### **Equipo 1** \n",
    "\n",
    "- Nyrma Paulina Hernández Trejo\n",
    "- Aide Jazmín González Cruz\n",
    "- Joel Jaramillo Pacheco\n",
    "- Jesús Enrique Miranda Blanco\n",
    "\n",
    "<br>\n",
    "\n",
    "<div align=\"center\"><h1 style=\"font-weight:bold; font-size: 40px\">Práctica 2</h1></div>\n",
    "\n",
    "\n",
    "# **Segunda parte**"
   ]
  },
  {
   "cell_type": "markdown",
   "id": "09c4e505-6f78-452c-9d6f-adce49472762",
   "metadata": {},
   "source": [
    "Se muestra la ejecución del paquete en el que se muestra el mejoramiento realizado. Para ello se cargan las librerías necesarias:"
   ]
  },
  {
   "cell_type": "code",
   "execution_count": 1,
   "id": "d90c384c-3d9f-4174-821c-d32d1414524a",
   "metadata": {},
   "outputs": [],
   "source": [
    "from IPython.display import display, HTML, Image\n",
    "from datetime import date\n",
    "import pandas as pd\n",
    "import random\n",
    "import numpy as np \n",
    "import networkx as nx\n",
    "import time"
   ]
  },
  {
   "cell_type": "markdown",
   "id": "079fe1ad-174b-4b50-9a99-b0073c27f730",
   "metadata": {},
   "source": [
    "Y se muestran las características de la máquina donde se corrió el código:"
   ]
  },
  {
   "cell_type": "code",
   "execution_count": 9,
   "id": "1b7f197f-4821-45cd-9a62-9443e2bf9507",
   "metadata": {},
   "outputs": [
    {
     "name": "stdout",
     "output_type": "stream",
     "text": [
      "Architecture:                    x86_64\n",
      "CPU op-mode(s):                  32-bit, 64-bit\n",
      "Byte Order:                      Little Endian\n",
      "Address sizes:                   36 bits physical, 48 bits virtual\n",
      "CPU(s):                          4\n",
      "On-line CPU(s) list:             0-3\n",
      "Thread(s) per core:              2\n",
      "Core(s) per socket:              2\n",
      "Socket(s):                       1\n",
      "NUMA node(s):                    1\n",
      "Vendor ID:                       GenuineIntel\n",
      "CPU family:                      6\n",
      "Model:                           58\n",
      "Model name:                      Intel(R) Core(TM) i5-3210M CPU @ 2.50GHz\n",
      "Stepping:                        9\n",
      "CPU MHz:                         2194.284\n",
      "CPU max MHz:                     3100.0000\n",
      "CPU min MHz:                     1200.0000\n",
      "BogoMIPS:                        4988.64\n",
      "Virtualization:                  VT-x\n",
      "L1d cache:                       64 KiB\n",
      "L1i cache:                       64 KiB\n",
      "L2 cache:                        512 KiB\n",
      "L3 cache:                        3 MiB\n",
      "NUMA node0 CPU(s):               0-3\n",
      "Vulnerability Itlb multihit:     KVM: Mitigation: VMX disabled\n",
      "Vulnerability L1tf:              Mitigation; PTE Inversion; VMX conditional cache flushes, SMT vulnerable\n",
      "Vulnerability Mds:               Mitigation; Clear CPU buffers; SMT vulnerable\n",
      "Vulnerability Meltdown:          Mitigation; PTI\n",
      "Vulnerability Spec store bypass: Mitigation; Speculative Store Bypass disabled via prctl and seccomp\n",
      "Vulnerability Spectre v1:        Mitigation; usercopy/swapgs barriers and __user pointer sanitization\n",
      "Vulnerability Spectre v2:        Mitigation; Retpolines, IBPB conditional, IBRS_FW, STIBP conditional, RSB filling\n",
      "Vulnerability Srbds:             Vulnerable: No microcode\n",
      "Vulnerability Tsx async abort:   Not affected\n",
      "Flags:                           fpu vme de pse tsc msr pae mce cx8 apic sep mtrr pge mca cmov pat pse36 clflush dts acpi mmx fxsr sse sse2 ss ht tm pbe syscall nx rdtscp lm constant_tsc arch_perfmon pebs bts rep_good nopl xtopology nonstop_tsc cpuid aperfmperf pni pclmulqdq dtes64 monitor ds_cpl vmx est tm2 ssse3 cx16 xtpr pdcm pcid sse4_1 sse4_2 x2apic popcnt tsc_deadline_timer aes xsave avx f16c rdrand lahf_lm cpuid_fault epb pti ssbd ibrs ibpb stibp tpr_shadow vnmi flexpriority ept vpid fsgsbase smep erms xsaveopt dtherm ida arat pln pts md_clear flush_l1d\n"
     ]
    }
   ],
   "source": [
    "%%bash\n",
    "lscpu"
   ]
  },
  {
   "cell_type": "code",
   "execution_count": null,
   "id": "c33d15e2-2b88-450f-8424-8937801dd338",
   "metadata": {},
   "outputs": [],
   "source": [
    "%%bash\n",
    "sudo lshw -C memory"
   ]
  },
  {
   "cell_type": "code",
   "execution_count": 11,
   "id": "5ebf8507-44b7-4f0d-af8d-38257f6b33a6",
   "metadata": {},
   "outputs": [
    {
     "name": "stdout",
     "output_type": "stream",
     "text": [
      "Linux 5a4ea55e41da 5.13.0-41-generic #46~20.04.1-Ubuntu SMP Wed Apr 20 13:16:21 UTC 2022 x86_64 x86_64 x86_64 GNU/Linux\n"
     ]
    }
   ],
   "source": [
    "%%bash\n",
    "uname -ar #r for kernel, a for all"
   ]
  },
  {
   "cell_type": "markdown",
   "id": "d560cf9c-ff49-4faa-ab75-67ba2ef54676",
   "metadata": {},
   "source": [
    "- **Código original**"
   ]
  },
  {
   "cell_type": "code",
   "execution_count": 2,
   "id": "371db526-2d38-40dc-b9c4-4840bc69014a",
   "metadata": {},
   "outputs": [],
   "source": [
    "def get_data(data_dir, date=date.today().strftime(\"%Y-%m-%d\"), tam_data=100, price='Open'):\n",
    "    \"\"\"\n",
    "    Obtiene datos de un directorio de una fecha dada\n",
    "    param:\n",
    "    data_dir: directorio de datos\n",
    "    date: fecha a analizar, por default toma la fecha actual si no se especifica\n",
    "    tam_data: analiza cierto tamaño del dataset de forma aleatoria, por default son 100 monedas a analizar\n",
    "    price: selecciona con que precio se hará el ejercicio(High,Low,Open,Close), por default es Open\n",
    "    return:\n",
    "    dataframe: con datos especificados\n",
    "    \"\"\"\n",
    "    df = pd.read_csv(data_dir)\n",
    "    df_date = df[df['Date']==date]\n",
    "    df_date = df_date[df_date[price] > 0]\n",
    "    \n",
    "    if(tam_data == None):\n",
    "        df_random = df_date\n",
    "    else:\n",
    "        df_random = df_date.sample(n = tam_data)\n",
    "    \n",
    "    \n",
    "    df_random = df_random.reset_index()\n",
    "    data = df_random[[\"ticker\", price]]\n",
    "    data.columns = ['Símbolo', 'Precio']\n",
    "    \n",
    "    return data    \n",
    "\n",
    "def exchange_rate_matrix(data):\n",
    "    \"\"\"\n",
    "    Exchange Rate Matrix Representation\n",
    "    param:\n",
    "        dataframe\n",
    "    return:\n",
    "        dataframe\n",
    "    \"\"\"\n",
    "    n = data.shape[0]\n",
    "\n",
    "    max_spread_pct = 0.05 # maximum bid-ask spread in pct of bid, 0.05 for 5%\n",
    "\n",
    "    c1 = data[['Precio']]\n",
    "    aux = c1.copy()\n",
    "    random.seed(10)\n",
    "    for i in range(n):\n",
    "        c1[i] = aux/c1[['Precio']].values[i]*(1+random.uniform(0,max_spread_pct))\n",
    "    c1.drop(columns=['Precio'],inplace=True)\n",
    "    for i in range(len(c1.index)):\n",
    "        for j in range(len(c1.columns)):\n",
    "            if i==j:\n",
    "                c1.loc[i,j] = 1\n",
    "    return c1\n",
    "\n",
    "def log_transformed_rep(data):\n",
    "    \"\"\"\n",
    "    Log-Transformed Representations\n",
    "    param:\n",
    "        dataframe\n",
    "    return:\n",
    "        dataframe\n",
    "    \"\"\"\n",
    "    \n",
    "    df_ln = np.round(-np.log(data),2)\n",
    "    return df_ln\n",
    "\n",
    "def create_grap(data):\n",
    "    \"\"\"\n",
    "    Crea grafo a partir de los datos de cripomonedas y precio\n",
    "    param:\n",
    "        dataframe\n",
    "    return:\n",
    "        grafo\n",
    "    \"\"\"\n",
    "    df = exchange_rate_matrix(data)\n",
    "    df_ln = log_transformed_rep(df)\n",
    "    \n",
    "    n = df_ln.shape[0]\n",
    "    \n",
    "    edge = []\n",
    "    # Covert to formatto use un graph\n",
    "    for i in range(n):\n",
    "        for j in range(n):\n",
    "            if (i != j):\n",
    "                edge.append([str(i), str(j), df_ln.loc[i][j]])\n",
    "\n",
    "    G = nx.DiGraph()        \n",
    "    G.add_weighted_edges_from(edge)\n",
    "    \n",
    "    return G\n",
    "\n",
    "def bf_negative_cycle(graph, node_ini=None, distance_ini=np.inf):\n",
    "    \n",
    "    assert distance_ini>=1, f\"La distancia inicial debe de ser mayor o igual a 1. El parámetro fue igual a {distance_ini}\"\n",
    "    \n",
    "    if node_ini is None:\n",
    "        n_nodes = len(graph.nodes())\n",
    "    else:\n",
    "        assert node_ini <= len(graph.nodes), f\"El nodo definido es mayor a los del grafo. Deberia de ser menor a {len(graph.nodes)}.\"\n",
    "        n_nodes = node_ini\n",
    "            \n",
    "    n = len(graph.nodes()) + 1\n",
    "    # Remove nan borders inside graph\n",
    "    edges = []\n",
    "    for edge in graph.edges().data():\n",
    "        if ~np.isnan(edge[2]['weight']):\n",
    "            edges.append(edge)\n",
    "\n",
    "    # Add a start node and add zero weighted edges to all other nodes\n",
    "    for i in range(n-1):\n",
    "        edges.append((n-1, i, {'weight': 0}))\n",
    "\n",
    "    # Initialize distances of nodes and predecessors\n",
    "    distance= np.ones(n) * distance_ini # Starting distances with infinite values\n",
    "    distance[n_nodes] = 0  # Starting node has zero distance\n",
    "    predecessors = np.ones(n) * -1  # Starting predecessors with -1 values\n",
    "    \n",
    "    for i in range(n):  \n",
    "        x = -1\n",
    "        for edge in edges:\n",
    "            if distance[int(edge[0])] + edge[2]['weight'] < distance[int(edge[1])]:  \n",
    "                distance[int(edge[1])] = distance[int(edge[0])] + edge[2]['weight']\n",
    "                predecessors[int(edge[1])] = int(edge[0])\n",
    "                x = int(edge[1])\n",
    "        if x == -1:  # If relaxation is not possible, there is no negative cycle\n",
    "            return None\n",
    "        \n",
    "    # Identify negative cycle\n",
    "    for i in range(n):\n",
    "        x = predecessors[int(x)]\n",
    "    cycle = []\n",
    "    v = x\n",
    "    while True:\n",
    "        cycle.append(int(v))\n",
    "        if v == x and len(cycle) > 1:\n",
    "            break\n",
    "        v = predecessors[int(v)]\n",
    "    \n",
    "    return cycle.reverse()"
   ]
  },
  {
   "cell_type": "markdown",
   "id": "df596ed8-7ae6-48f8-9808-e4216ec9c01a",
   "metadata": {},
   "source": [
    "- **Código perfilado**"
   ]
  },
  {
   "cell_type": "code",
   "execution_count": 3,
   "id": "5143c537-89e8-4ce6-b382-ba94dd5b59dc",
   "metadata": {},
   "outputs": [],
   "source": [
    "def exchange_rate_matrix2(data):\n",
    "    \"\"\"\n",
    "    Exchange Rate Matrix Representation\n",
    "    param:\n",
    "        dataframe\n",
    "    return:\n",
    "        dataframe\n",
    "    \"\"\"\n",
    "    n = data.shape[0]\n",
    "\n",
    "    max_spread_pct = 0.05 # maximum bid-ask spread in pct of bid, 0.05 for 5%\n",
    "\n",
    "    c1 = data[['Precio']]\n",
    "    aux = c1.copy()\n",
    "    random.seed(10)\n",
    "    for i in range(n):\n",
    "        c1[i] = aux/c1.loc[i]['Precio']*(1+random.uniform(0,max_spread_pct))\n",
    "        \n",
    "    c1.drop(columns=['Precio'],inplace=True)\n",
    "    \n",
    "    for i in range(len(c1.index)):\n",
    "        for j in range(len(c1.columns)):\n",
    "            if i==j:\n",
    "                c1.loc[i,j] = 1    \n",
    "    return c1\n",
    "\n",
    "def create_grap2(data):\n",
    "    \"\"\"\n",
    "    Crea grafo a partir de los datos de cripomonedas y precio\n",
    "    param:\n",
    "        dataframe\n",
    "    return:\n",
    "        grafo\n",
    "    \"\"\"\n",
    "    df = exchange_rate_matrix2(data)\n",
    "    df_ln = log_transformed_rep(df)\n",
    "    \n",
    "    n = df_ln.shape[0]\n",
    "    \n",
    "    edge = []\n",
    "    # Covert to formatto use un graph\n",
    "    for i in range(n):\n",
    "        for j in range(n):\n",
    "            if (i != j):\n",
    "                edge.append([str(i), str(j), df_ln.loc[i][j]])\n",
    "\n",
    "    G = nx.DiGraph()        \n",
    "    G.add_weighted_edges_from(edge)\n",
    "    \n",
    "    return G\n",
    "\n",
    "def bf_negative_cycle2(graph, node_ini=None, distance_ini=np.inf):\n",
    "    \n",
    "    assert distance_ini>=1, f\"La distancia inicial debe de ser mayor o igual a 1. El parámetro fue igual a {distance_ini}\"\n",
    "    \n",
    "    n_nodes = len(graph.nodes)\n",
    "    \n",
    "    if node_ini is not None:\n",
    "        assert node_ini <= n_nodes, f\"El nodo definido es mayor a los del grafo. Deberia de ser menor a {n_nodes}.\"\n",
    "        n_nodes = node_ini\n",
    "                    \n",
    "    n = n_nodes + 1\n",
    "    # Remove nan borders inside graph\n",
    "    edges = [edge for edge in graph.edges().data() if ~np.isnan(edge[2]['weight'])]\n",
    "\n",
    "    # Add a start node and add zero weighted edges to all other nodes\n",
    "    for i in range(n-1):\n",
    "        edges.append((n-1, i, {'weight': 0}))\n",
    "        \n",
    "    # Initialize distances of nodes and predecessors\n",
    "    # https://codingdeekshi.com/initialize-an-array-in-python/\n",
    "    distance= [distance_ini ]*n\n",
    "    distance[n_nodes] = 0  \n",
    "    predecessors = [-1]*n \n",
    "    \n",
    "    for i in range(n):  \n",
    "        x = -1\n",
    "        for edge in edges:\n",
    "            if distance[int(edge[0])] + edge[2]['weight'] < distance[int(edge[1])]:                \n",
    "                distance[int(edge[1])] = distance[int(edge[0])] + edge[2]['weight']\n",
    "                predecessors[int(edge[1])] = int(edge[0])\n",
    "                x = int(edge[1])\n",
    "        if x == -1:  # If relaxation is not possible, there is no negative cycle\n",
    "            return None\n",
    "        \n",
    "    # Identify negative cycle\n",
    "    for i in range(n):\n",
    "        x = predecessors[int(x)]\n",
    "    cycle = []\n",
    "    v = x\n",
    "    while True:\n",
    "        cycle.append(int(v))\n",
    "        if v == x and len(cycle) > 1:\n",
    "            break\n",
    "        v = predecessors[int(v)]\n",
    "    \n",
    "    return cycle.reverse()"
   ]
  },
  {
   "cell_type": "markdown",
   "id": "0f34190a-cc26-4aa4-8a12-b680da9dff28",
   "metadata": {},
   "source": [
    "## **Tiempo**\n",
    "\n",
    "Se muestra la corrida del paquete anterior vs el perfilado con *time* y *timeit*"
   ]
  },
  {
   "cell_type": "markdown",
   "id": "5e0b6c27-cec4-488c-9025-68d29cc23772",
   "metadata": {},
   "source": [
    "### ***Time***"
   ]
  },
  {
   "cell_type": "markdown",
   "id": "25fa2300-63b2-4c88-8e87-3430451a16ae",
   "metadata": {},
   "source": [
    "- Código original proceso completo"
   ]
  },
  {
   "cell_type": "code",
   "execution_count": 6,
   "id": "06b5fac5-53de-43e0-992d-3f2dbf387366",
   "metadata": {},
   "outputs": [
    {
     "name": "stdout",
     "output_type": "stream",
     "text": [
      "Arbitrage Identification Cycle in Crypto Trading tomó:  4.627994060516357 segundos\n",
      "Bellman ford tomó:  3.1854867935180664 segundos\n"
     ]
    }
   ],
   "source": [
    "start_time_c = time.time()\n",
    "df = get_data('data/historical_data.csv', '2022-05-12')\n",
    "G = create_grap(df)\n",
    "start_time_m = time.time()\n",
    "bf_negative_cycle(G)\n",
    "end_time = time.time()\n",
    "secs_c = end_time-start_time_c\n",
    "secs_m = end_time-start_time_m\n",
    "print(\"Arbitrage Identification Cycle in Crypto Trading tomó: \",secs_c,\"segundos\")\n",
    "print(\"Bellman ford tomó: \",secs_m,\"segundos\")"
   ]
  },
  {
   "cell_type": "markdown",
   "id": "3d564c31-1f1a-43ff-bae7-bb3a56066b57",
   "metadata": {},
   "source": [
    "- Código perfilado proceso completo"
   ]
  },
  {
   "cell_type": "code",
   "execution_count": 8,
   "id": "aed25941-8c94-487c-a99c-6c4602d298e7",
   "metadata": {},
   "outputs": [
    {
     "name": "stdout",
     "output_type": "stream",
     "text": [
      "Arbitrage Identification Cycle in Crypto Trading tomó:  3.5411875247955322 segundos\n",
      "Bellman ford tomó:  2.1046359539031982 segundos\n"
     ]
    }
   ],
   "source": [
    "start_time_c = time.time()\n",
    "df = get_data('data/historical_data.csv', '2022-05-12')\n",
    "G = create_grap2(df)\n",
    "start_time_m = time.time()\n",
    "bf_negative_cycle2(G)\n",
    "end_time = time.time()\n",
    "secs_c = end_time-start_time_c\n",
    "secs_m = end_time-start_time_m\n",
    "print(\"Arbitrage Identification Cycle in Crypto Trading tomó: \",secs_c,\"segundos\")\n",
    "print(\"Bellman ford tomó: \",secs_m,\"segundos\")"
   ]
  },
  {
   "cell_type": "markdown",
   "id": "1e636d46-72d5-48ea-8ba3-157a6aa17d94",
   "metadata": {},
   "source": [
    "### ***Timeit***"
   ]
  },
  {
   "cell_type": "markdown",
   "id": "165e43f3-c7f0-4ef5-a72c-d40c991e31f6",
   "metadata": {},
   "source": [
    "- Bellman ford trabajado en prácticas anteriores"
   ]
  },
  {
   "cell_type": "code",
   "execution_count": 13,
   "id": "38afe8b5-c015-4460-a511-38f41dd0f0f3",
   "metadata": {},
   "outputs": [
    {
     "name": "stdout",
     "output_type": "stream",
     "text": [
      "2.69 s ± 73.3 ms per loop (mean ± std. dev. of 7 runs, 1 loop each)\n"
     ]
    }
   ],
   "source": [
    "%timeit bf_negative_cycle(G)"
   ]
  },
  {
   "cell_type": "markdown",
   "id": "af1b3a4f-f076-4fef-9204-6702d6dbfa39",
   "metadata": {},
   "source": [
    "- Bellman ford perfilado"
   ]
  },
  {
   "cell_type": "code",
   "execution_count": 14,
   "id": "48acca44-fb7f-456b-a888-9ea4761d9d85",
   "metadata": {},
   "outputs": [
    {
     "name": "stdout",
     "output_type": "stream",
     "text": [
      "2.03 s ± 93.7 ms per loop (mean ± std. dev. of 7 runs, 1 loop each)\n"
     ]
    }
   ],
   "source": [
    "%timeit bf_negative_cycle2(G)"
   ]
  },
  {
   "cell_type": "markdown",
   "id": "b5d6dc2a-a353-4321-9cc4-733a6dbf3ff0",
   "metadata": {},
   "source": [
    "### ***cProfile***"
   ]
  },
  {
   "cell_type": "code",
   "execution_count": null,
   "id": "e31d74ee-9a3a-4dc4-916a-c1d4e86ece73",
   "metadata": {},
   "outputs": [],
   "source": []
  },
  {
   "cell_type": "code",
   "execution_count": null,
   "id": "168fc5b6-5cbd-4aa3-a3bf-d3986029f81f",
   "metadata": {},
   "outputs": [],
   "source": []
  },
  {
   "cell_type": "markdown",
   "id": "f1693809-fbf2-42be-88c3-5435170e0668",
   "metadata": {},
   "source": [
    "## **Memoria**\n",
    "\n",
    "Se muestra la corridas con los paquetes para ver el mejoramiento usando *memory_profiler*"
   ]
  },
  {
   "cell_type": "code",
   "execution_count": null,
   "id": "77309e29-07c5-4c5f-a6ba-c4dcdefee82f",
   "metadata": {},
   "outputs": [],
   "source": []
  },
  {
   "cell_type": "code",
   "execution_count": null,
   "id": "1ac87b1d-e0f6-4acb-a89b-eebb7693999e",
   "metadata": {},
   "outputs": [],
   "source": []
  },
  {
   "cell_type": "code",
   "execution_count": null,
   "id": "762c18be-9f6f-415d-803a-d84be3e70532",
   "metadata": {},
   "outputs": [],
   "source": []
  }
 ],
 "metadata": {
  "kernelspec": {
   "display_name": "Python 3 (ipykernel)",
   "language": "python",
   "name": "python3"
  },
  "language_info": {
   "codemirror_mode": {
    "name": "ipython",
    "version": 3
   },
   "file_extension": ".py",
   "mimetype": "text/x-python",
   "name": "python",
   "nbconvert_exporter": "python",
   "pygments_lexer": "ipython3",
   "version": "3.8.10"
  }
 },
 "nbformat": 4,
 "nbformat_minor": 5
}
